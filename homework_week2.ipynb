{
 "cells": [
  {
   "cell_type": "code",
   "execution_count": null,
   "metadata": {
    "collapsed": true
   },
   "outputs": [],
   "source": [
    "list_Of_Names1={\"name\":\"Donald·Trump\",\"age\":71,\"birthplace\":\"NY\"} #首先是川普大爷，姓名，年龄，出生地"
   ]
  },
  {
   "cell_type": "code",
   "execution_count": null,
   "metadata": {},
   "outputs": [],
   "source": [
    "list_Of_Names1[\"interest\"]=[\"said you are fired\",\"Twitter\",\"money\"] #他的爱好"
   ]
  },
  {
   "cell_type": "code",
   "execution_count": null,
   "metadata": {
    "collapsed": true
   },
   "outputs": [],
   "source": [
    "#-------------分割线-----------------#"
   ]
  },
  {
   "cell_type": "code",
   "execution_count": null,
   "metadata": {},
   "outputs": [],
   "source": [
    "list_Of_Names2={\"name\":\"Barack·H·Obama\",\"age\":56,\"birthplace\":\"Hawaii\"} #奥观海同志，姓名，年龄，出生地"
   ]
  },
  {
   "cell_type": "code",
   "execution_count": null,
   "metadata": {},
   "outputs": [],
   "source": [
    "list_Of_Names2[\"interest\"]=[\"Turn somersault PS:in excited\",\"bilibili star\",\"nothing\"] #观海同志平时酷爱唱歌，尤爱鬼畜"
   ]
  },
  {
   "cell_type": "code",
   "execution_count": null,
   "metadata": {
    "collapsed": true
   },
   "outputs": [],
   "source": [
    "#-------------分割线-----------------#"
   ]
  },
  {
   "cell_type": "code",
   "execution_count": null,
   "metadata": {
    "collapsed": true
   },
   "outputs": [],
   "source": [
    "list_Of_Names3={\"name\":\"Angela·D·Merkel\",\"age\":63,\"birthplace\":\"Germany\"} #然后是德国大妈，姓名，年龄，出生地"
   ]
  },
  {
   "cell_type": "code",
   "execution_count": null,
   "metadata": {},
   "outputs": [],
   "source": [
    "list_Of_Names3[\"interest\"]=[\"pointless Speech\",\"make an apology\",\"help for nan_min\"] #大妈酷爱帮助难民，并经常出面帮难民道歉"
   ]
  },
  {
   "cell_type": "code",
   "execution_count": null,
   "metadata": {
    "collapsed": true
   },
   "outputs": [],
   "source": [
    "#-------------分割线-----------------#"
   ]
  },
  {
   "cell_type": "code",
   "execution_count": null,
   "metadata": {
    "collapsed": true
   },
   "outputs": [],
   "source": [
    "list_Of_Names4={\"name\":\"Putin\",\"age\":64,\"birthplace\":\"Moscow\"} #普京大帝，姓名，年龄，出生地"
   ]
  },
  {
   "cell_type": "code",
   "execution_count": null,
   "metadata": {
    "collapsed": true
   },
   "outputs": [],
   "source": [
    "list_Of_Names4[\"interest\"]=[\"riding\",\"Sambo\",\"Sing a song called I am super gay of song\"] #B站名曲<<i'm super gay>>"
   ]
  },
  {
   "cell_type": "code",
   "execution_count": null,
   "metadata": {
    "collapsed": true
   },
   "outputs": [],
   "source": [
    "#-------------分割线-----------------#"
   ]
  },
  {
   "cell_type": "code",
   "execution_count": null,
   "metadata": {
    "collapsed": true
   },
   "outputs": [],
   "source": [
    "list_Of_Names5={\"name\":\"Shinzo·Abe\",\"age\":63,\"birthplace\":\"Japan\"} #安培晋三，姓名，年龄，出生地"
   ]
  },
  {
   "cell_type": "code",
   "execution_count": null,
   "metadata": {
    "collapsed": true
   },
   "outputs": [],
   "source": [
    "list_Of_Names5[\"interest\"]=[\"scandal?\",\"say sorry?\",\"kiss donkey of ass\"] #这一位现在深陷丑闻之中，实在抽不出时间搞什么爱好"
   ]
  },
  {
   "cell_type": "code",
   "execution_count": null,
   "metadata": {
    "collapsed": true
   },
   "outputs": [],
   "source": [
    "#-------------分割线-----------------#"
   ]
  },
  {
   "cell_type": "code",
   "execution_count": null,
   "metadata": {
    "collapsed": true
   },
   "outputs": [],
   "source": [
    "list_Of_Names6={\"name\":\"Park Geun-hye\",\"age\":65,\"birthplace\":\"Daegu\"} #刚刚离职的朴大妈，姓名，年龄，出生地"
   ]
  },
  {
   "cell_type": "code",
   "execution_count": null,
   "metadata": {},
   "outputs": [],
   "source": [
    "list_Of_Names6[\"interest\"]=[\"repent in prison\",\"buy Viagra\",\"Believe in Close friends\"] #此君兴趣独特，爱买伟哥"
   ]
  },
  {
   "cell_type": "code",
   "execution_count": null,
   "metadata": {
    "collapsed": true
   },
   "outputs": [],
   "source": [
    "#-------------分割线-----------------#"
   ]
  },
  {
   "cell_type": "code",
   "execution_count": null,
   "metadata": {
    "collapsed": true
   },
   "outputs": [],
   "source": [
    "list_Of_Names7={\"name\":\"Tsai Ing-wen\",\"age\":61,\"birthplace\":\"Tai Bei\"} #小菜省长，姓名，年龄，出生地"
   ]
  },
  {
   "cell_type": "code",
   "execution_count": null,
   "metadata": {
    "collapsed": true
   },
   "outputs": [],
   "source": [
    "list_Of_Names7[\"interest\"]=[\"use love to generate electricity\",\"said two China\"] #因为能量不够，所以只有用爱发电"
   ]
  },
  {
   "cell_type": "code",
   "execution_count": null,
   "metadata": {
    "collapsed": true
   },
   "outputs": [],
   "source": [
    "#-------------分割线-----------------#"
   ]
  },
  {
   "cell_type": "code",
   "execution_count": null,
   "metadata": {
    "collapsed": true
   },
   "outputs": [],
   "source": [
    "list_Of_Names8={\"name\":\"Kim Jong-un\",\"age\":33,\"birthplace\":\"Pyongyang\"} #金三胖，姓名，年龄，出生地"
   ]
  },
  {
   "cell_type": "code",
   "execution_count": null,
   "metadata": {
    "collapsed": true
   },
   "outputs": [],
   "source": [
    "list_Of_Names8[\"interest\"]=[\"Launch Atom bombs\",\"eh...eat very much\"] #打原子弹炮和吃饭，两大爱好"
   ]
  },
  {
   "cell_type": "code",
   "execution_count": null,
   "metadata": {
    "collapsed": true
   },
   "outputs": [],
   "source": [
    "#-------------分割线-----------------#"
   ]
  },
  {
   "cell_type": "code",
   "execution_count": null,
   "metadata": {
    "collapsed": true
   },
   "outputs": [],
   "source": [
    "list_Of_Names9={\"name\":\"David·Cameron\",\"age\":51,\"birthplace\":\"London\"} #英国前首相布莱尔，姓名，年龄，出生地"
   ]
  },
  {
   "cell_type": "code",
   "execution_count": null,
   "metadata": {
    "collapsed": true
   },
   "outputs": [],
   "source": [
    "list_Of_Names9[\"interest\"]=[\"golf\",\"walk\",\"日猪？\"]"
   ]
  },
  {
   "cell_type": "code",
   "execution_count": null,
   "metadata": {
    "collapsed": true
   },
   "outputs": [],
   "source": [
    "#-------------分割线-----------------#"
   ]
  },
  {
   "cell_type": "code",
   "execution_count": null,
   "metadata": {
    "collapsed": true
   },
   "outputs": [],
   "source": [
    "list_Of_Names10={\"name\":\"Jing-ping Xi\",\"age\":48,\"birthplace\":\"ShanXi\"}"
   ]
  },
  {
   "cell_type": "code",
   "execution_count": null,
   "metadata": {
    "collapsed": true
   },
   "outputs": [],
   "source": [
    "list_Of_Names10[\"interest\"]=[\"error 404\",\"View information requires administrator privileges\"]"
   ]
  },
  {
   "cell_type": "code",
   "execution_count": null,
   "metadata": {
    "collapsed": true
   },
   "outputs": [],
   "source": [
    "#-------------分割线-----------------#"
   ]
  },
  {
   "cell_type": "code",
   "execution_count": null,
   "metadata": {
    "collapsed": true
   },
   "outputs": [],
   "source": [
    "list_Of_All=[\n",
    "    list_Of_Names1,list_Of_Names2,list_Of_Names3,list_Of_Names4,list_Of_Names5,\n",
    "    list_Of_Names6,list_Of_Names7,list_Of_Names8,list_Of_Names9,list_Of_Names10]"
   ]
  },
  {
   "cell_type": "code",
   "execution_count": null,
   "metadata": {
    "collapsed": true
   },
   "outputs": [],
   "source": [
    "keyword=lambda x:x['age'] #将lambda的方法赋值给变量keyword"
   ]
  },
  {
   "cell_type": "code",
   "execution_count": null,
   "metadata": {
    "collapsed": true
   },
   "outputs": [],
   "source": [
    "list_Of_All.sort(key=keyword) #对list_Of_All进行排序"
   ]
  },
  {
   "cell_type": "code",
   "execution_count": null,
   "metadata": {
    "scrolled": true
   },
   "outputs": [],
   "source": [
    "list_Of_All #打印"
   ]
  },
  {
   "cell_type": "code",
   "execution_count": null,
   "metadata": {
    "collapsed": true
   },
   "outputs": [],
   "source": [
    "del list_Of_All[2] #删除位置在2的值"
   ]
  },
  {
   "cell_type": "code",
   "execution_count": null,
   "metadata": {
    "scrolled": true
   },
   "outputs": [],
   "source": [
    "list_Of_All #打印"
   ]
  },
  {
   "cell_type": "code",
   "execution_count": null,
   "metadata": {
    "collapsed": true
   },
   "outputs": [],
   "source": [
    "list_Of_Names3[\"name\"]='joe' #修改其中一个的名字"
   ]
  },
  {
   "cell_type": "code",
   "execution_count": null,
   "metadata": {
    "scrolled": true
   },
   "outputs": [],
   "source": [
    "list_Of_Names3 #打印"
   ]
  },
  {
   "cell_type": "code",
   "execution_count": null,
   "metadata": {
    "scrolled": true
   },
   "outputs": [],
   "source": [
    "list_Of_All #打印全部"
   ]
  },
  {
   "cell_type": "code",
   "execution_count": null,
   "metadata": {
    "collapsed": true
   },
   "outputs": [],
   "source": []
  }
 ],
 "metadata": {
  "kernelspec": {
   "display_name": "Python 3",
   "language": "python",
   "name": "python3"
  },
  "language_info": {
   "codemirror_mode": {
    "name": "ipython",
    "version": 3
   },
   "file_extension": ".py",
   "mimetype": "text/x-python",
   "name": "python",
   "nbconvert_exporter": "python",
   "pygments_lexer": "ipython3",
   "version": "3.6.2"
  }
 },
 "nbformat": 4,
 "nbformat_minor": 2
}
